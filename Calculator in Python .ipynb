{
 "cells": [
  {
   "cell_type": "markdown",
   "id": "b4d64cf0",
   "metadata": {},
   "source": [
    "# Calculator in Python "
   ]
  },
  {
   "cell_type": "code",
   "execution_count": null,
   "id": "753e7053",
   "metadata": {},
   "outputs": [],
   "source": [
    "# Simple Calculator in Python\n",
    "\n",
    "This Python notebook demonstrates the implementation of a basic calculator using Python and the tkinter library. \n",
    "The calculator provides a graphical user interface (GUI) where users can perform simple arithmetic operations such as \n",
    "addition, subtraction, multiplication, and division.\n",
    "\n",
    "The notebook includes the code for creating the calculator GUI, handling user input, and displaying the result. \n",
    "It utilizes the tkinter library for creating the window, buttons, and labels.\n",
    "\n",
    "To use the calculator, run the code cells in the notebook. The calculator GUI will open, allowing you to click the \n",
    "buttons to input numbers and perform operations. The result will be displayed on the screen.\n",
    "\n",
    "Feel free to modify the code and experiment with different functionalities or design elements of the calculator. \n",
    "It serves as a starting point for building more complex calculators or incorporating additional features.\n"
   ]
  },
  {
   "cell_type": "code",
   "execution_count": null,
   "id": "6cac4de2",
   "metadata": {},
   "outputs": [],
   "source": [
    "# importing tkinter library to create a window  and to create buttons for numbers and all basic methametical operations\n",
    "import tkinter as tk\n",
    "\n",
    "# Append the clicked bottons values to the display label \n",
    "def add_to_display(value):\n",
    "    current_value = display.get()\n",
    "    new_value = current_value + value\n",
    "    display.set(new_value)\n",
    "\n",
    "# Evaluate the methametical expression in the display and update the result\n",
    "def evaluate():\n",
    "    try:\n",
    "        result = eval(display.get())\n",
    "        display.set(result)\n",
    "    except Exception as e:\n",
    "        display.set(\"Error\")\n",
    "\n",
    "# Clear the display label  \n",
    "def clear_display():\n",
    "    display.set(\"\")\n",
    "\n",
    "# Create the main window\n",
    "window = tk.Tk()\n",
    "window.title(\"Calculator\")\n",
    "\n",
    "# Create the display\n",
    "display = tk.StringVar()\n",
    "display.set(\"\")\n",
    "\n",
    "display_label = tk.Label(window, textvariable=display, font=(\"Arial\", 20), bd=5, relief=\"sunken\")\n",
    "display_label.grid(row=0, column=0, columnspan=4, padx=10, pady=10, sticky=\"w\")\n",
    "\n",
    "# Create the number buttons\n",
    "for i in range(10):\n",
    "    button = tk.Button(window, text=str(i), font=(\"Arial\", 16), width=5, command=lambda num=i: add_to_display(str(num)))\n",
    "    button.grid(row=1 + (i // 3), column=i % 3, padx=5, pady=5)\n",
    "\n",
    "# Create the operation buttons\n",
    "operations = [\"+\", \"-\", \"*\", \"/\"]\n",
    "for i, op in enumerate(operations):\n",
    "    button = tk.Button(window, text=op, font=(\"Arial\", 16), width=5, command=lambda op=op: add_to_display(op))\n",
    "    button.grid(row=i + 2, column=3, padx=5, pady=5)\n",
    "\n",
    "# Create the special buttons\n",
    "clear_button = tk.Button(window, text=\"C\", font=(\"Arial\", 16), width=5, command=clear_display)\n",
    "clear_button.grid(row=5, column=0, padx=5, pady=5)\n",
    "\n",
    "equal_button = tk.Button(window, text=\"=\", font=(\"Arial\", 16), width=5, command=evaluate)\n",
    "equal_button.grid(row=5, column=1, padx=5, pady=5)\n",
    "\n",
    "# Start the GUI event loop\n",
    "window.mainloop()\n"
   ]
  }
 ],
 "metadata": {
  "kernelspec": {
   "display_name": "Python 3 (ipykernel)",
   "language": "python",
   "name": "python3"
  },
  "language_info": {
   "codemirror_mode": {
    "name": "ipython",
    "version": 3
   },
   "file_extension": ".py",
   "mimetype": "text/x-python",
   "name": "python",
   "nbconvert_exporter": "python",
   "pygments_lexer": "ipython3",
   "version": "3.9.13"
  }
 },
 "nbformat": 4,
 "nbformat_minor": 5
}
